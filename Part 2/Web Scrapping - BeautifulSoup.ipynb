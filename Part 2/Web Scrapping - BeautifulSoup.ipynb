{
 "cells": [
  {
   "cell_type": "markdown",
   "id": "4ab3adf9",
   "metadata": {},
   "source": [
    "### Web Scrapping - BeautifulSoup\n",
    "*24 de Noviembre de 2021*\n",
    "\n",
    "*Nicolás Tibatá*"
   ]
  },
  {
   "cell_type": "code",
   "execution_count": 1,
   "id": "eed3233b",
   "metadata": {
    "id": "eed3233b"
   },
   "outputs": [],
   "source": [
    "import json\n",
    "from time import sleep\n",
    "import requests\n",
    "from bs4 import BeautifulSoup as bs # AKA 'bs'\n",
    "import pandas as pd\n",
    "import numpy as np "
   ]
  },
  {
   "cell_type": "code",
   "execution_count": 2,
   "id": "d4c7ba2c",
   "metadata": {
    "id": "d4c7ba2c"
   },
   "outputs": [],
   "source": [
    "#Now read the file back into a Python list object\n",
    "with open('base_links.txt', 'r') as f:\n",
    "    base_links = json.loads(f.read())"
   ]
  },
  {
   "cell_type": "code",
   "execution_count": 3,
   "id": "b552c4ca",
   "metadata": {
    "id": "b552c4ca"
   },
   "outputs": [],
   "source": [
    "# We need to eliminate duplicates\n",
    "unique_links = []\n",
    "for element in base_links:\n",
    "    if element not in unique_links:\n",
    "        unique_links.append(element)\n",
    "    else:\n",
    "        continue"
   ]
  },
  {
   "cell_type": "code",
   "execution_count": 4,
   "id": "ebb152d1",
   "metadata": {
    "colab": {
     "base_uri": "https://localhost:8080/"
    },
    "id": "ebb152d1",
    "outputId": "67ec95a0-7fbf-4af5-fdcc-77efb82090d6"
   },
   "outputs": [
    {
     "data": {
      "text/plain": [
       "3525"
      ]
     },
     "execution_count": 4,
     "metadata": {},
     "output_type": "execute_result"
    }
   ],
   "source": [
    "len(unique_links) # The unique links of properties"
   ]
  },
  {
   "cell_type": "code",
   "execution_count": null,
   "id": "69874fdb",
   "metadata": {
    "collapsed": true,
    "id": "69874fdb"
   },
   "outputs": [],
   "source": [
    "# Bs loop. For each element in unique elements take the price, location and details\n",
    "info_precio = []\n",
    "info_ubi = []\n",
    "info = []\n",
    "for elements in unique_links:\n",
    "    try:\n",
    "        html = requests.get(elements).text\n",
    "        soup = bs(html, 'lxml')\n",
    "        precio = soup.find('span', {'class': '_2xKfz'})\n",
    "        ubicacion = soup.find('span', {'class': '_2FRXm'})\n",
    "        informacion = soup.find('div', {'class': '_3JPEe'})\n",
    "        info_precio.append(precio.text)\n",
    "        info_ubi.append(ubicacion.text)\n",
    "        info.append(informacion.text)\n",
    "        print(precio.text)\n",
    "        print(ubicacion.text)\n",
    "        print(informacion.text)\n",
    "    except Exception as e: print(e)\n",
    "    sleep(2) "
   ]
  },
  {
   "cell_type": "markdown",
   "id": "5fc483ac",
   "metadata": {},
   "source": [
    "`We need the same lenght always, to make the dataframe`"
   ]
  },
  {
   "cell_type": "code",
   "execution_count": 6,
   "id": "kpEq_ODst8A0",
   "metadata": {
    "colab": {
     "base_uri": "https://localhost:8080/"
    },
    "id": "kpEq_ODst8A0",
    "outputId": "0bb88898-ed75-4311-e713-b22d1b4bb098"
   },
   "outputs": [
    {
     "data": {
      "text/plain": [
       "3505"
      ]
     },
     "execution_count": 6,
     "metadata": {},
     "output_type": "execute_result"
    }
   ],
   "source": [
    "len(info)"
   ]
  },
  {
   "cell_type": "code",
   "execution_count": 7,
   "id": "kffDcBovuACP",
   "metadata": {
    "colab": {
     "base_uri": "https://localhost:8080/"
    },
    "id": "kffDcBovuACP",
    "outputId": "ad1fa277-ed1a-4e9b-e1d8-518a801f5ffd"
   },
   "outputs": [
    {
     "data": {
      "text/plain": [
       "3505"
      ]
     },
     "execution_count": 7,
     "metadata": {},
     "output_type": "execute_result"
    }
   ],
   "source": [
    "len(info_precio)"
   ]
  },
  {
   "cell_type": "code",
   "execution_count": 8,
   "id": "vXpdGcSxuCiC",
   "metadata": {
    "colab": {
     "base_uri": "https://localhost:8080/"
    },
    "id": "vXpdGcSxuCiC",
    "outputId": "4ac530c8-8bba-42da-e2de-812fac241a5b"
   },
   "outputs": [
    {
     "data": {
      "text/plain": [
       "3505"
      ]
     },
     "execution_count": 8,
     "metadata": {},
     "output_type": "execute_result"
    }
   ],
   "source": [
    "len(info_ubi)"
   ]
  },
  {
   "cell_type": "markdown",
   "id": "28232814",
   "metadata": {
    "id": "28232814"
   },
   "source": [
    "`Save info, price and location of the property, in case the kernel dies`"
   ]
  },
  {
   "cell_type": "code",
   "execution_count": 9,
   "id": "5126d054",
   "metadata": {
    "id": "5126d054"
   },
   "outputs": [],
   "source": [
    "with open('info.txt', 'w') as f:\n",
    "    f.write(json.dumps(info))"
   ]
  },
  {
   "cell_type": "code",
   "execution_count": 10,
   "id": "9ff13ffa",
   "metadata": {
    "id": "9ff13ffa"
   },
   "outputs": [],
   "source": [
    "with open('info_precio.txt', 'w') as f:\n",
    "    f.write(json.dumps(info_precio))"
   ]
  },
  {
   "cell_type": "code",
   "execution_count": 11,
   "id": "fd33f332",
   "metadata": {
    "id": "fd33f332"
   },
   "outputs": [],
   "source": [
    "with open('info_ubi.txt', 'w') as f:\n",
    "    f.write(json.dumps(info_ubi))"
   ]
  },
  {
   "cell_type": "markdown",
   "id": "31f8bcae",
   "metadata": {},
   "source": [
    "--------"
   ]
  },
  {
   "cell_type": "markdown",
   "id": "f30ac038",
   "metadata": {},
   "source": [
    "#### Get the variables"
   ]
  },
  {
   "cell_type": "markdown",
   "id": "3ea70d7f",
   "metadata": {},
   "source": [
    "Open the files and check if theres no empty elements"
   ]
  },
  {
   "cell_type": "code",
   "execution_count": 5,
   "id": "a62251c9",
   "metadata": {},
   "outputs": [],
   "source": [
    "with open('info_precio.txt', 'r') as f:\n",
    "    precio = json.loads(f.read())"
   ]
  },
  {
   "cell_type": "code",
   "execution_count": 6,
   "id": "21269a20",
   "metadata": {},
   "outputs": [
    {
     "data": {
      "text/plain": [
       "[]"
      ]
     },
     "execution_count": 6,
     "metadata": {},
     "output_type": "execute_result"
    }
   ],
   "source": [
    "[i for i,x in enumerate(precio) if not x] # all good for prices"
   ]
  },
  {
   "cell_type": "code",
   "execution_count": 7,
   "id": "53c106b0",
   "metadata": {},
   "outputs": [],
   "source": [
    "# The $ symbol is not useful on the dataframe\n",
    "precio_n = [s.replace(\"$ \", \"\") for s in precio]"
   ]
  },
  {
   "cell_type": "code",
   "execution_count": 8,
   "id": "a681eb46",
   "metadata": {},
   "outputs": [
    {
     "data": {
      "text/plain": [
       "3505"
      ]
     },
     "execution_count": 8,
     "metadata": {},
     "output_type": "execute_result"
    }
   ],
   "source": [
    "len(precio_n) # Price Variable"
   ]
  },
  {
   "cell_type": "code",
   "execution_count": 9,
   "id": "68accd21",
   "metadata": {},
   "outputs": [],
   "source": [
    "with open('info_ubi.txt', 'r') as f:\n",
    "    ubicacion = json.loads(f.read())"
   ]
  },
  {
   "cell_type": "code",
   "execution_count": 10,
   "id": "9f61d895",
   "metadata": {},
   "outputs": [
    {
     "data": {
      "text/plain": [
       "[]"
      ]
     },
     "execution_count": 10,
     "metadata": {},
     "output_type": "execute_result"
    }
   ],
   "source": [
    "[i for i,x in enumerate(ubicacion) if not x] # all good for location"
   ]
  },
  {
   "cell_type": "code",
   "execution_count": 11,
   "id": "0d16c6ee",
   "metadata": {},
   "outputs": [],
   "source": [
    "# We just need the neighborhood and locality\n",
    "ubicacion_n = [s.replace(\", Bogotá\", \"\") for s in ubicacion]"
   ]
  },
  {
   "cell_type": "code",
   "execution_count": 12,
   "id": "9b9b5eb7",
   "metadata": {},
   "outputs": [
    {
     "data": {
      "text/plain": [
       "3505"
      ]
     },
     "execution_count": 12,
     "metadata": {},
     "output_type": "execute_result"
    }
   ],
   "source": [
    "len(ubicacion_n) # Location Variable"
   ]
  },
  {
   "cell_type": "markdown",
   "id": "c3fbed7a",
   "metadata": {},
   "source": [
    "--------"
   ]
  },
  {
   "cell_type": "code",
   "execution_count": 13,
   "id": "354fd27d",
   "metadata": {
    "id": "354fd27d"
   },
   "outputs": [],
   "source": [
    "import re # To get all the variables in a list of the info.txt"
   ]
  },
  {
   "cell_type": "code",
   "execution_count": 14,
   "id": "29a9c5f7",
   "metadata": {},
   "outputs": [],
   "source": [
    "with open('info.txt', 'r') as f:\n",
    "    informacion = json.loads(f.read())"
   ]
  },
  {
   "cell_type": "code",
   "execution_count": 15,
   "id": "5c5f0a9f",
   "metadata": {
    "id": "5c5f0a9f"
   },
   "outputs": [],
   "source": [
    "lista_tipo = []\n",
    "for sentences in informacion:\n",
    "    y = re.findall('Tipo(\\w+)Habitaciones', sentences)\n",
    "    lista_tipo.append(y)"
   ]
  },
  {
   "cell_type": "code",
   "execution_count": 16,
   "id": "53feb938",
   "metadata": {},
   "outputs": [
    {
     "data": {
      "text/plain": [
       "[3033]"
      ]
     },
     "execution_count": 16,
     "metadata": {},
     "output_type": "execute_result"
    }
   ],
   "source": [
    "[i for i,x in enumerate(lista_tipo) if not x] # Element 3033 is empty"
   ]
  },
  {
   "cell_type": "code",
   "execution_count": 17,
   "id": "67357bf4",
   "metadata": {},
   "outputs": [],
   "source": [
    "lista_tipo[3033] = ['Casa'] # Becuase the details describe it as a House"
   ]
  },
  {
   "cell_type": "code",
   "execution_count": 18,
   "id": "62f6b3e5",
   "metadata": {},
   "outputs": [],
   "source": [
    "# Lets flat the list\n",
    "tipo = []\n",
    "for sublist in lista_tipo:\n",
    "    for item in sublist:\n",
    "        tipo.append(item)"
   ]
  },
  {
   "cell_type": "code",
   "execution_count": 19,
   "id": "88caddc0",
   "metadata": {},
   "outputs": [
    {
     "data": {
      "text/plain": [
       "3505"
      ]
     },
     "execution_count": 19,
     "metadata": {},
     "output_type": "execute_result"
    }
   ],
   "source": [
    "len(tipo) # Its necesary the same length to make the dataframe. Type Variable"
   ]
  },
  {
   "cell_type": "code",
   "execution_count": 20,
   "id": "49d38bfa",
   "metadata": {},
   "outputs": [],
   "source": [
    "lista_habitaciones = []\n",
    "for sentences in informacion:\n",
    "    y = re.findall('Habitaciones([0-9]*)', sentences)\n",
    "    lista_habitaciones.append(y)"
   ]
  },
  {
   "cell_type": "code",
   "execution_count": 21,
   "id": "e9dc5ae4",
   "metadata": {},
   "outputs": [
    {
     "data": {
      "text/plain": [
       "[]"
      ]
     },
     "execution_count": 21,
     "metadata": {},
     "output_type": "execute_result"
    }
   ],
   "source": [
    "[i for i,x in enumerate(lista_habitaciones) if not x] # None of the elements are empty"
   ]
  },
  {
   "cell_type": "code",
   "execution_count": 22,
   "id": "adc0b335",
   "metadata": {},
   "outputs": [],
   "source": [
    "habitaciones = []\n",
    "for sublist in lista_habitaciones:\n",
    "    for item in sublist:\n",
    "        habitaciones.append(item)"
   ]
  },
  {
   "cell_type": "code",
   "execution_count": 23,
   "id": "a22ca979",
   "metadata": {},
   "outputs": [
    {
     "data": {
      "text/plain": [
       "3505"
      ]
     },
     "execution_count": 23,
     "metadata": {},
     "output_type": "execute_result"
    }
   ],
   "source": [
    "len(habitaciones) # Rooms Variable"
   ]
  },
  {
   "cell_type": "code",
   "execution_count": 24,
   "id": "a21f2653",
   "metadata": {},
   "outputs": [],
   "source": [
    "lista_baños = []\n",
    "for sentences in informacion:\n",
    "    y = re.findall('Baños([0-9]*)', sentences)\n",
    "    lista_baños.append(y)"
   ]
  },
  {
   "cell_type": "code",
   "execution_count": 25,
   "id": "c3c9afbb",
   "metadata": {},
   "outputs": [
    {
     "data": {
      "text/plain": [
       "[]"
      ]
     },
     "execution_count": 25,
     "metadata": {},
     "output_type": "execute_result"
    }
   ],
   "source": [
    "[i for i,x in enumerate(lista_baños) if not x]"
   ]
  },
  {
   "cell_type": "code",
   "execution_count": 26,
   "id": "33d42b46",
   "metadata": {},
   "outputs": [],
   "source": [
    "baños = []\n",
    "for sublist in lista_baños:\n",
    "    for item in sublist:\n",
    "        baños.append(item)"
   ]
  },
  {
   "cell_type": "code",
   "execution_count": 27,
   "id": "3422bd02",
   "metadata": {},
   "outputs": [
    {
     "data": {
      "text/plain": [
       "3505"
      ]
     },
     "execution_count": 27,
     "metadata": {},
     "output_type": "execute_result"
    }
   ],
   "source": [
    "len(baños) # Restrooms variable"
   ]
  },
  {
   "cell_type": "code",
   "execution_count": 28,
   "id": "af1eae9d",
   "metadata": {},
   "outputs": [],
   "source": [
    "lista_metros = []\n",
    "for sentences in informacion:\n",
    "    y = re.findall('Totales([0-9]*)', sentences)\n",
    "    lista_metros.append(y)"
   ]
  },
  {
   "cell_type": "code",
   "execution_count": 29,
   "id": "97ed8db7",
   "metadata": {},
   "outputs": [
    {
     "data": {
      "text/plain": [
       "[]"
      ]
     },
     "execution_count": 29,
     "metadata": {},
     "output_type": "execute_result"
    }
   ],
   "source": [
    "[i for i,x in enumerate(lista_metros) if not x]"
   ]
  },
  {
   "cell_type": "code",
   "execution_count": 30,
   "id": "3170dd40",
   "metadata": {},
   "outputs": [],
   "source": [
    "metros = []\n",
    "for sublist in lista_metros:\n",
    "    for item in sublist:\n",
    "        metros.append(item)"
   ]
  },
  {
   "cell_type": "code",
   "execution_count": 31,
   "id": "ed7b6ae3",
   "metadata": {},
   "outputs": [
    {
     "data": {
      "text/plain": [
       "3505"
      ]
     },
     "execution_count": 31,
     "metadata": {},
     "output_type": "execute_result"
    }
   ],
   "source": [
    "len(metros) #Squared Meters Variable"
   ]
  },
  {
   "cell_type": "code",
   "execution_count": 33,
   "id": "4009def8",
   "metadata": {},
   "outputs": [],
   "source": [
    "lista_estrato = []\n",
    "for sentences in informacion:\n",
    "    y = re.findall('Estrato([0-9]*)', sentences)\n",
    "    lista_estrato.append(y)"
   ]
  },
  {
   "cell_type": "code",
   "execution_count": 34,
   "id": "b82e560c",
   "metadata": {},
   "outputs": [
    {
     "data": {
      "text/plain": [
       "[162,\n",
       " 198,\n",
       " 299,\n",
       " 313,\n",
       " 348,\n",
       " 357,\n",
       " 405,\n",
       " 407,\n",
       " 408,\n",
       " 417,\n",
       " 418,\n",
       " 489,\n",
       " 502,\n",
       " 516,\n",
       " 520,\n",
       " 523,\n",
       " 524,\n",
       " 537,\n",
       " 538,\n",
       " 539,\n",
       " 540,\n",
       " 542,\n",
       " 543,\n",
       " 548,\n",
       " 552,\n",
       " 553,\n",
       " 574,\n",
       " 575,\n",
       " 583,\n",
       " 670,\n",
       " 678,\n",
       " 733,\n",
       " 862,\n",
       " 949,\n",
       " 1035,\n",
       " 1044,\n",
       " 1055,\n",
       " 1298,\n",
       " 1301,\n",
       " 1406,\n",
       " 1419,\n",
       " 1732,\n",
       " 1815,\n",
       " 1877,\n",
       " 2029,\n",
       " 2186,\n",
       " 2262,\n",
       " 2331,\n",
       " 2345,\n",
       " 2346,\n",
       " 2364,\n",
       " 2389,\n",
       " 2390,\n",
       " 2531,\n",
       " 2626,\n",
       " 2629,\n",
       " 2666,\n",
       " 2667,\n",
       " 2706,\n",
       " 2711,\n",
       " 2776,\n",
       " 2840,\n",
       " 2914,\n",
       " 2919,\n",
       " 2952,\n",
       " 3050,\n",
       " 3085,\n",
       " 3097,\n",
       " 3119,\n",
       " 3198,\n",
       " 3292,\n",
       " 3293,\n",
       " 3301,\n",
       " 3315,\n",
       " 3318,\n",
       " 3323,\n",
       " 3324,\n",
       " 3325,\n",
       " 3327,\n",
       " 3355,\n",
       " 3356,\n",
       " 3358,\n",
       " 3360,\n",
       " 3374,\n",
       " 3375,\n",
       " 3376,\n",
       " 3429,\n",
       " 3430,\n",
       " 3443,\n",
       " 3445,\n",
       " 3474,\n",
       " 3479,\n",
       " 3485]"
      ]
     },
     "execution_count": 34,
     "metadata": {},
     "output_type": "execute_result"
    }
   ],
   "source": [
    "[i for i,x in enumerate(lista_estrato) if not x] # Many empty elements "
   ]
  },
  {
   "cell_type": "code",
   "execution_count": 35,
   "id": "24a93f26",
   "metadata": {},
   "outputs": [
    {
     "data": {
      "text/plain": [
       "'TipoCasaHabitaciones10Baños5Metros Cuadrados Totales300 m2AntigüedadEntre 5 y 10 añosParqueaderoNoPiso4Tipo de vendedorDueño DirectoNúmero de contacto (+57)3125904484'"
      ]
     },
     "execution_count": 35,
     "metadata": {},
     "output_type": "execute_result"
    }
   ],
   "source": [
    "informacion[198] # these elements doesnt have that information, so lets change the empty for a\n",
    "# median result as 3. "
   ]
  },
  {
   "cell_type": "code",
   "execution_count": 36,
   "id": "650ae5ac",
   "metadata": {},
   "outputs": [],
   "source": [
    "# Replacing the values of the sublist and flatten the list on the same line\n",
    "estrato = [name for sublist in lista_estrato for name in (sublist or ['3'])]"
   ]
  },
  {
   "cell_type": "code",
   "execution_count": 37,
   "id": "17e86cb4",
   "metadata": {},
   "outputs": [
    {
     "data": {
      "text/plain": [
       "3505"
      ]
     },
     "execution_count": 37,
     "metadata": {},
     "output_type": "execute_result"
    }
   ],
   "source": [
    "len(estrato) # Social Class Variable"
   ]
  },
  {
   "cell_type": "code",
   "execution_count": 38,
   "id": "db31af72",
   "metadata": {},
   "outputs": [],
   "source": [
    "lista_contacto = []\n",
    "for sentences in informacion:\n",
    "    y = re.findall('\\)([0-9]*)', sentences)\n",
    "    lista_contacto.append(y)"
   ]
  },
  {
   "cell_type": "code",
   "execution_count": 39,
   "id": "5f8b7134",
   "metadata": {
    "scrolled": true
   },
   "outputs": [],
   "source": [
    "#(ELIMINATE THESE WORDS TO RUN THE CODE) [i for i,x in enumerate(lista_contacto) if not x] \n",
    "# Many empty elements. Not all properties have the contact number"
   ]
  },
  {
   "cell_type": "code",
   "execution_count": 40,
   "id": "c48c1f46",
   "metadata": {},
   "outputs": [],
   "source": [
    "contacto = [name for sublist in lista_contacto for name in (sublist or ['0'])]\n",
    "# Replacing the empty elements with 0. You can use NaN either. "
   ]
  },
  {
   "cell_type": "code",
   "execution_count": 41,
   "id": "9f3d63c6",
   "metadata": {},
   "outputs": [
    {
     "data": {
      "text/plain": [
       "3505"
      ]
     },
     "execution_count": 41,
     "metadata": {},
     "output_type": "execute_result"
    }
   ],
   "source": [
    "len(contacto)"
   ]
  },
  {
   "cell_type": "code",
   "execution_count": 42,
   "id": "302664ef",
   "metadata": {},
   "outputs": [],
   "source": [
    "lista_parqueadero = []\n",
    "for sentences in informacion:\n",
    "    y = re.findall('Parqueadero([A-Za-z][A-Za-z])', sentences)\n",
    "    lista_parqueadero.append(y)"
   ]
  },
  {
   "cell_type": "code",
   "execution_count": 43,
   "id": "93c4d7f4",
   "metadata": {},
   "outputs": [],
   "source": [
    "parqueadero = [name for sublist in lista_parqueadero for name in (sublist or [np.nan])]\n",
    "# Replacing the empty elements with NaN"
   ]
  },
  {
   "cell_type": "code",
   "execution_count": 44,
   "id": "7bf6e838",
   "metadata": {},
   "outputs": [
    {
     "data": {
      "text/plain": [
       "3505"
      ]
     },
     "execution_count": 44,
     "metadata": {},
     "output_type": "execute_result"
    }
   ],
   "source": [
    "len(parqueadero)"
   ]
  },
  {
   "cell_type": "code",
   "execution_count": 45,
   "id": "100cc9ac",
   "metadata": {
    "id": "100cc9ac",
    "outputId": "bb9c770b-a745-48aa-e622-3f0d75d21099"
   },
   "outputs": [],
   "source": [
    "# ANOTHER WAY TO SEE EMPTY ELEMENTS ON A LIST\n",
    "\n",
    "#for sublist in lista_tipo:\n",
    "#    if sublist:\n",
    "#        print('not empty')\n",
    "#     else:\n",
    "#        print('empty')"
   ]
  },
  {
   "cell_type": "markdown",
   "id": "8b38ac50",
   "metadata": {
    "id": "8b38ac50"
   },
   "source": [
    "-------"
   ]
  },
  {
   "cell_type": "markdown",
   "id": "6a517b50",
   "metadata": {},
   "source": [
    "#### Build the Dataframe"
   ]
  },
  {
   "cell_type": "markdown",
   "id": "3f7f9937",
   "metadata": {},
   "source": [
    "Lets split `Location Variable` into neighborhood and locality"
   ]
  },
  {
   "cell_type": "code",
   "execution_count": 46,
   "id": "f7e47881",
   "metadata": {},
   "outputs": [],
   "source": [
    "barrio = [x.split(',') for x in ubicacion_n]\n",
    "# This help me to split into a sublist of 2 elements"
   ]
  },
  {
   "cell_type": "code",
   "execution_count": 47,
   "id": "6dc70a00",
   "metadata": {},
   "outputs": [],
   "source": [
    "#(ELIMINATE THESE WORDS TO RUN THE CODE) barrio"
   ]
  },
  {
   "cell_type": "code",
   "execution_count": 48,
   "id": "d60b08af",
   "metadata": {},
   "outputs": [],
   "source": [
    "localidad = []\n",
    "for sublists in barrio:\n",
    "     localidad.append(sublists[1])"
   ]
  },
  {
   "cell_type": "code",
   "execution_count": 50,
   "id": "3171501f",
   "metadata": {},
   "outputs": [
    {
     "data": {
      "text/plain": [
       "3505"
      ]
     },
     "execution_count": 50,
     "metadata": {},
     "output_type": "execute_result"
    }
   ],
   "source": [
    "len(localidad)"
   ]
  },
  {
   "cell_type": "code",
   "execution_count": 52,
   "id": "3cad5181",
   "metadata": {},
   "outputs": [],
   "source": [
    "barrios = []\n",
    "for sublists in barrio:\n",
    "    barrios.append(sublists[0])"
   ]
  },
  {
   "cell_type": "code",
   "execution_count": 53,
   "id": "1ba58422",
   "metadata": {},
   "outputs": [
    {
     "data": {
      "text/plain": [
       "3505"
      ]
     },
     "execution_count": 53,
     "metadata": {},
     "output_type": "execute_result"
    }
   ],
   "source": [
    "len(barrios)"
   ]
  },
  {
   "cell_type": "markdown",
   "id": "3987b2d5",
   "metadata": {},
   "source": [
    "Easier way than RegEx but `doesn't work all the time.` "
   ]
  },
  {
   "cell_type": "code",
   "execution_count": 54,
   "id": "c766f2ba",
   "metadata": {},
   "outputs": [
    {
     "data": {
      "text/html": [
       "<div>\n",
       "<style scoped>\n",
       "    .dataframe tbody tr th:only-of-type {\n",
       "        vertical-align: middle;\n",
       "    }\n",
       "\n",
       "    .dataframe tbody tr th {\n",
       "        vertical-align: top;\n",
       "    }\n",
       "\n",
       "    .dataframe thead th {\n",
       "        text-align: right;\n",
       "    }\n",
       "</style>\n",
       "<table border=\"1\" class=\"dataframe\">\n",
       "  <thead>\n",
       "    <tr style=\"text-align: right;\">\n",
       "      <th></th>\n",
       "      <th>Precio</th>\n",
       "      <th>Metros Cuadrados</th>\n",
       "      <th>Habitaciones</th>\n",
       "      <th>Baños</th>\n",
       "      <th>Parqueadero</th>\n",
       "      <th>Estrato</th>\n",
       "      <th>Localidad</th>\n",
       "      <th>Barrio</th>\n",
       "      <th>Contacto</th>\n",
       "    </tr>\n",
       "  </thead>\n",
       "  <tbody>\n",
       "    <tr>\n",
       "      <th>0</th>\n",
       "      <td>1.650.000.000</td>\n",
       "      <td>250</td>\n",
       "      <td>3</td>\n",
       "      <td>3</td>\n",
       "      <td>NaN</td>\n",
       "      <td>6</td>\n",
       "      <td>Chapinero</td>\n",
       "      <td>Chicó Alto</td>\n",
       "      <td>0</td>\n",
       "    </tr>\n",
       "    <tr>\n",
       "      <th>1</th>\n",
       "      <td>410.000.000</td>\n",
       "      <td>53</td>\n",
       "      <td>1</td>\n",
       "      <td>2</td>\n",
       "      <td>NaN</td>\n",
       "      <td>5</td>\n",
       "      <td>Usaquén</td>\n",
       "      <td>Rincón Del Chicó</td>\n",
       "      <td>0</td>\n",
       "    </tr>\n",
       "    <tr>\n",
       "      <th>2</th>\n",
       "      <td>583.300.000</td>\n",
       "      <td>106</td>\n",
       "      <td>3</td>\n",
       "      <td>3</td>\n",
       "      <td>NaN</td>\n",
       "      <td>6</td>\n",
       "      <td>Suba</td>\n",
       "      <td>Niza Suba - Torres Del Monte</td>\n",
       "      <td>0</td>\n",
       "    </tr>\n",
       "    <tr>\n",
       "      <th>3</th>\n",
       "      <td>520.000.000</td>\n",
       "      <td>130</td>\n",
       "      <td>3</td>\n",
       "      <td>3</td>\n",
       "      <td>NaN</td>\n",
       "      <td>6</td>\n",
       "      <td>Usaquén</td>\n",
       "      <td>Rincón De Santa Paula</td>\n",
       "      <td>3165279629</td>\n",
       "    </tr>\n",
       "    <tr>\n",
       "      <th>4</th>\n",
       "      <td>350.000.000</td>\n",
       "      <td>118</td>\n",
       "      <td>3</td>\n",
       "      <td>3</td>\n",
       "      <td>Si</td>\n",
       "      <td>3</td>\n",
       "      <td>Suba</td>\n",
       "      <td>Cantalejo</td>\n",
       "      <td>0</td>\n",
       "    </tr>\n",
       "    <tr>\n",
       "      <th>...</th>\n",
       "      <td>...</td>\n",
       "      <td>...</td>\n",
       "      <td>...</td>\n",
       "      <td>...</td>\n",
       "      <td>...</td>\n",
       "      <td>...</td>\n",
       "      <td>...</td>\n",
       "      <td>...</td>\n",
       "      <td>...</td>\n",
       "    </tr>\n",
       "    <tr>\n",
       "      <th>3500</th>\n",
       "      <td>602.370.000</td>\n",
       "      <td>88</td>\n",
       "      <td>3</td>\n",
       "      <td>2</td>\n",
       "      <td>NaN</td>\n",
       "      <td>4</td>\n",
       "      <td>Fontibón</td>\n",
       "      <td>Urbanización Industrial Montevideo</td>\n",
       "      <td>0</td>\n",
       "    </tr>\n",
       "    <tr>\n",
       "      <th>3501</th>\n",
       "      <td>420.000.000</td>\n",
       "      <td>60</td>\n",
       "      <td>1</td>\n",
       "      <td>1</td>\n",
       "      <td>NaN</td>\n",
       "      <td>4</td>\n",
       "      <td>Teusaquillo</td>\n",
       "      <td>San Luís</td>\n",
       "      <td>0</td>\n",
       "    </tr>\n",
       "    <tr>\n",
       "      <th>3502</th>\n",
       "      <td>560.000.000</td>\n",
       "      <td>360</td>\n",
       "      <td>4</td>\n",
       "      <td>2</td>\n",
       "      <td>NaN</td>\n",
       "      <td>3</td>\n",
       "      <td>Antonio Nariño</td>\n",
       "      <td>La Fragua</td>\n",
       "      <td>0</td>\n",
       "    </tr>\n",
       "    <tr>\n",
       "      <th>3503</th>\n",
       "      <td>898.000.000</td>\n",
       "      <td>292</td>\n",
       "      <td>4</td>\n",
       "      <td>4</td>\n",
       "      <td>NaN</td>\n",
       "      <td>4</td>\n",
       "      <td>Teusaquillo</td>\n",
       "      <td>Pablo VI Etapa II</td>\n",
       "      <td>0</td>\n",
       "    </tr>\n",
       "    <tr>\n",
       "      <th>3504</th>\n",
       "      <td>488.000.000</td>\n",
       "      <td>85</td>\n",
       "      <td>3</td>\n",
       "      <td>2</td>\n",
       "      <td>NaN</td>\n",
       "      <td>4</td>\n",
       "      <td>Kennedy</td>\n",
       "      <td>El Recodo Y Petaluna</td>\n",
       "      <td>0</td>\n",
       "    </tr>\n",
       "  </tbody>\n",
       "</table>\n",
       "<p>3505 rows × 9 columns</p>\n",
       "</div>"
      ],
      "text/plain": [
       "             Precio Metros Cuadrados Habitaciones Baños Parqueadero Estrato  \\\n",
       "0     1.650.000.000              250            3     3         NaN       6   \n",
       "1       410.000.000               53            1     2         NaN       5   \n",
       "2       583.300.000              106            3     3         NaN       6   \n",
       "3       520.000.000              130            3     3         NaN       6   \n",
       "4       350.000.000              118            3     3          Si       3   \n",
       "...             ...              ...          ...   ...         ...     ...   \n",
       "3500    602.370.000               88            3     2         NaN       4   \n",
       "3501    420.000.000               60            1     1         NaN       4   \n",
       "3502    560.000.000              360            4     2         NaN       3   \n",
       "3503    898.000.000              292            4     4         NaN       4   \n",
       "3504    488.000.000               85            3     2         NaN       4   \n",
       "\n",
       "            Localidad                              Barrio    Contacto  \n",
       "0           Chapinero                          Chicó Alto           0  \n",
       "1             Usaquén                    Rincón Del Chicó           0  \n",
       "2                Suba        Niza Suba - Torres Del Monte           0  \n",
       "3             Usaquén               Rincón De Santa Paula  3165279629  \n",
       "4                Suba                           Cantalejo           0  \n",
       "...               ...                                 ...         ...  \n",
       "3500         Fontibón  Urbanización Industrial Montevideo           0  \n",
       "3501      Teusaquillo                            San Luís           0  \n",
       "3502   Antonio Nariño                           La Fragua           0  \n",
       "3503      Teusaquillo                   Pablo VI Etapa II           0  \n",
       "3504          Kennedy                El Recodo Y Petaluna           0  \n",
       "\n",
       "[3505 rows x 9 columns]"
      ]
     },
     "execution_count": 54,
     "metadata": {},
     "output_type": "execute_result"
    }
   ],
   "source": [
    "df = pd.DataFrame({'Precio':precio_n,\n",
    "                   'Metros Cuadrados' : metros,\n",
    "                   'Habitaciones': habitaciones,\n",
    "                   'Baños': baños,\n",
    "                   'Parqueadero': parqueadero,\n",
    "                   'Estrato': estrato,\n",
    "                   'Localidad': localidad,\n",
    "                   'Barrio': barrios,\n",
    "                   'Contacto' : contacto})\n",
    "df"
   ]
  },
  {
   "cell_type": "code",
   "execution_count": 212,
   "id": "4728d81f",
   "metadata": {},
   "outputs": [],
   "source": [
    "df.to_csv('df_olx.csv')"
   ]
  },
  {
   "cell_type": "markdown",
   "id": "b6736569",
   "metadata": {},
   "source": [
    "-------"
   ]
  }
 ],
 "metadata": {
  "colab": {
   "collapsed_sections": [],
   "name": "Borrador.ipynb",
   "provenance": []
  },
  "kernelspec": {
   "display_name": "Python 3",
   "language": "python",
   "name": "python3"
  },
  "language_info": {
   "codemirror_mode": {
    "name": "ipython",
    "version": 3
   },
   "file_extension": ".py",
   "mimetype": "text/x-python",
   "name": "python",
   "nbconvert_exporter": "python",
   "pygments_lexer": "ipython3",
   "version": "3.8.8"
  }
 },
 "nbformat": 4,
 "nbformat_minor": 5
}
