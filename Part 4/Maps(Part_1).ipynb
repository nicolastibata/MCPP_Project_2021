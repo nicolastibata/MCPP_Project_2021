{
 "cells": [
  {
   "cell_type": "markdown",
   "id": "4091741c",
   "metadata": {},
   "source": [
    "### Mapping Bogotá - Data Analysis\n",
    "\n",
    "*24 de Noviembre de 2021*\n",
    "\n",
    "*Nicolás Tibatá*"
   ]
  },
  {
   "cell_type": "code",
   "execution_count": 1,
   "id": "802a4ce7",
   "metadata": {},
   "outputs": [],
   "source": [
    "import json\n",
    "import pandas as pd\n",
    "import plotly.express as px # pip install plotly\n",
    "import numpy as np"
   ]
  },
  {
   "cell_type": "code",
   "execution_count": 2,
   "id": "4089f5c4",
   "metadata": {},
   "outputs": [],
   "source": [
    "# I dont want to make my jupyter notebook, so...\n",
    "import plotly.io as pio\n",
    "pio.renderers.default = 'chrome'"
   ]
  },
  {
   "cell_type": "code",
   "execution_count": 3,
   "id": "d68a4a88",
   "metadata": {},
   "outputs": [],
   "source": [
    "localidades_b = json.load(open('poligonos-localidad-2.geojson', 'r'))\n",
    "# Get it here: https://bogota-laburbano.opendatasoft.com/explore/dataset/poligonos-localidades/export/?flg=es"
   ]
  },
  {
   "cell_type": "code",
   "execution_count": 4,
   "id": "8cf53e00",
   "metadata": {},
   "outputs": [],
   "source": [
    "df = pd.read_csv('df_maps.csv')"
   ]
  },
  {
   "cell_type": "code",
   "execution_count": 5,
   "id": "99b221b7",
   "metadata": {},
   "outputs": [],
   "source": [
    "df['Promedio'] = df['Precio'].groupby(df['Localidad']).transform('mean')\n",
    "# Whit this line we can append the mean of the price grouping by locality"
   ]
  },
  {
   "cell_type": "code",
   "execution_count": 6,
   "id": "eeb6a3ff",
   "metadata": {},
   "outputs": [
    {
     "data": {
      "text/plain": [
       "0       1.242554e+09\n",
       "1       7.383502e+08\n",
       "2       5.532981e+08\n",
       "3       7.383502e+08\n",
       "4       5.532981e+08\n",
       "            ...     \n",
       "3392    5.178020e+08\n",
       "3393    7.695618e+08\n",
       "3394    4.576452e+08\n",
       "3395    7.695618e+08\n",
       "3396    3.589825e+08\n",
       "Name: Promedio, Length: 3397, dtype: float64"
      ]
     },
     "execution_count": 6,
     "metadata": {},
     "output_type": "execute_result"
    }
   ],
   "source": [
    "df['Promedio']"
   ]
  },
  {
   "cell_type": "markdown",
   "id": "ae9ef926",
   "metadata": {},
   "source": [
    "We have to change the locality names. To match the geojson file"
   ]
  },
  {
   "cell_type": "code",
   "execution_count": 7,
   "id": "c650e481",
   "metadata": {},
   "outputs": [],
   "source": [
    "df['Localidad'] = df['Localidad'].str.upper()\n",
    "df['Localidad'] = [s.replace('Á', 'A') for s in df['Localidad']]\n",
    "df['Localidad'] = [s.replace('É', 'E') for s in df['Localidad']]\n",
    "df['Localidad'] = [s.replace('Í', 'I') for s in df['Localidad']]\n",
    "df['Localidad'] = [s.replace('Ó', 'O') for s in df['Localidad']]"
   ]
  },
  {
   "cell_type": "code",
   "execution_count": 8,
   "id": "2fad269d",
   "metadata": {},
   "outputs": [
    {
     "data": {
      "text/plain": [
       "0            CHAPINERO\n",
       "1              USAQUEN\n",
       "2                 SUBA\n",
       "3              USAQUEN\n",
       "4                 SUBA\n",
       "             ...      \n",
       "3392          FONTIBON\n",
       "3393       TEUSAQUILLO\n",
       "3394    ANTONIO NARIÑO\n",
       "3395       TEUSAQUILLO\n",
       "3396           KENNEDY\n",
       "Name: Localidad, Length: 3397, dtype: object"
      ]
     },
     "execution_count": 8,
     "metadata": {},
     "output_type": "execute_result"
    }
   ],
   "source": [
    "df['Localidad'] = df['Localidad'].str.strip() # To eliminate the first blank space of a string\n",
    "df['Localidad']"
   ]
  },
  {
   "cell_type": "code",
   "execution_count": 9,
   "id": "1a21feee",
   "metadata": {},
   "outputs": [
    {
     "data": {
      "text/plain": [
       "Index(['Unnamed: 0', 'Precio', 'Metros Cuadrados', 'Habitaciones', 'Baños',\n",
       "       'Parqueadero', 'Estrato', 'Localidad', 'Barrio', 'Contacto',\n",
       "       'Robo_Personas', 'Homicidios', 'Promedio'],\n",
       "      dtype='object')"
      ]
     },
     "execution_count": 9,
     "metadata": {},
     "output_type": "execute_result"
    }
   ],
   "source": [
    "df.columns"
   ]
  },
  {
   "cell_type": "code",
   "execution_count": 14,
   "id": "78fd957d",
   "metadata": {},
   "outputs": [],
   "source": [
    "maps_final = df.drop(['Unnamed: 0', 'Precio', 'Metros Cuadrados', 'Habitaciones', 'Baños',\n",
    "       'Parqueadero', 'Estrato', 'Barrio', 'Contacto'], axis = 1)"
   ]
  },
  {
   "cell_type": "code",
   "execution_count": 15,
   "id": "83af6cf9",
   "metadata": {},
   "outputs": [
    {
     "data": {
      "text/html": [
       "<div>\n",
       "<style scoped>\n",
       "    .dataframe tbody tr th:only-of-type {\n",
       "        vertical-align: middle;\n",
       "    }\n",
       "\n",
       "    .dataframe tbody tr th {\n",
       "        vertical-align: top;\n",
       "    }\n",
       "\n",
       "    .dataframe thead th {\n",
       "        text-align: right;\n",
       "    }\n",
       "</style>\n",
       "<table border=\"1\" class=\"dataframe\">\n",
       "  <thead>\n",
       "    <tr style=\"text-align: right;\">\n",
       "      <th></th>\n",
       "      <th>Localidad</th>\n",
       "      <th>Robo_Personas</th>\n",
       "      <th>Homicidios</th>\n",
       "      <th>Promedio</th>\n",
       "    </tr>\n",
       "  </thead>\n",
       "  <tbody>\n",
       "    <tr>\n",
       "      <th>0</th>\n",
       "      <td>CHAPINERO</td>\n",
       "      <td>5578</td>\n",
       "      <td>6</td>\n",
       "      <td>1.242554e+09</td>\n",
       "    </tr>\n",
       "    <tr>\n",
       "      <th>1</th>\n",
       "      <td>USAQUEN</td>\n",
       "      <td>5376</td>\n",
       "      <td>29</td>\n",
       "      <td>7.383502e+08</td>\n",
       "    </tr>\n",
       "    <tr>\n",
       "      <th>2</th>\n",
       "      <td>SUBA</td>\n",
       "      <td>7567</td>\n",
       "      <td>43</td>\n",
       "      <td>5.532981e+08</td>\n",
       "    </tr>\n",
       "    <tr>\n",
       "      <th>3</th>\n",
       "      <td>USAQUEN</td>\n",
       "      <td>5376</td>\n",
       "      <td>29</td>\n",
       "      <td>7.383502e+08</td>\n",
       "    </tr>\n",
       "    <tr>\n",
       "      <th>4</th>\n",
       "      <td>SUBA</td>\n",
       "      <td>7567</td>\n",
       "      <td>43</td>\n",
       "      <td>5.532981e+08</td>\n",
       "    </tr>\n",
       "    <tr>\n",
       "      <th>...</th>\n",
       "      <td>...</td>\n",
       "      <td>...</td>\n",
       "      <td>...</td>\n",
       "      <td>...</td>\n",
       "    </tr>\n",
       "    <tr>\n",
       "      <th>3392</th>\n",
       "      <td>FONTIBON</td>\n",
       "      <td>4739</td>\n",
       "      <td>21</td>\n",
       "      <td>5.178020e+08</td>\n",
       "    </tr>\n",
       "    <tr>\n",
       "      <th>3393</th>\n",
       "      <td>TEUSAQUILLO</td>\n",
       "      <td>3506</td>\n",
       "      <td>9</td>\n",
       "      <td>7.695618e+08</td>\n",
       "    </tr>\n",
       "    <tr>\n",
       "      <th>3394</th>\n",
       "      <td>ANTONIO NARIÑO</td>\n",
       "      <td>1788</td>\n",
       "      <td>11</td>\n",
       "      <td>4.576452e+08</td>\n",
       "    </tr>\n",
       "    <tr>\n",
       "      <th>3395</th>\n",
       "      <td>TEUSAQUILLO</td>\n",
       "      <td>3506</td>\n",
       "      <td>9</td>\n",
       "      <td>7.695618e+08</td>\n",
       "    </tr>\n",
       "    <tr>\n",
       "      <th>3396</th>\n",
       "      <td>KENNEDY</td>\n",
       "      <td>8439</td>\n",
       "      <td>136</td>\n",
       "      <td>3.589825e+08</td>\n",
       "    </tr>\n",
       "  </tbody>\n",
       "</table>\n",
       "<p>3397 rows × 4 columns</p>\n",
       "</div>"
      ],
      "text/plain": [
       "           Localidad  Robo_Personas  Homicidios      Promedio\n",
       "0          CHAPINERO           5578           6  1.242554e+09\n",
       "1            USAQUEN           5376          29  7.383502e+08\n",
       "2               SUBA           7567          43  5.532981e+08\n",
       "3            USAQUEN           5376          29  7.383502e+08\n",
       "4               SUBA           7567          43  5.532981e+08\n",
       "...              ...            ...         ...           ...\n",
       "3392        FONTIBON           4739          21  5.178020e+08\n",
       "3393     TEUSAQUILLO           3506           9  7.695618e+08\n",
       "3394  ANTONIO NARIÑO           1788          11  4.576452e+08\n",
       "3395     TEUSAQUILLO           3506           9  7.695618e+08\n",
       "3396         KENNEDY           8439         136  3.589825e+08\n",
       "\n",
       "[3397 rows x 4 columns]"
      ]
     },
     "execution_count": 15,
     "metadata": {},
     "output_type": "execute_result"
    }
   ],
   "source": [
    "maps_final"
   ]
  },
  {
   "cell_type": "code",
   "execution_count": 16,
   "id": "32cdeff7",
   "metadata": {},
   "outputs": [],
   "source": [
    "maps_final1 = maps_final.drop_duplicates(['Localidad'])"
   ]
  },
  {
   "cell_type": "code",
   "execution_count": 17,
   "id": "b266047e",
   "metadata": {},
   "outputs": [
    {
     "data": {
      "text/html": [
       "<div>\n",
       "<style scoped>\n",
       "    .dataframe tbody tr th:only-of-type {\n",
       "        vertical-align: middle;\n",
       "    }\n",
       "\n",
       "    .dataframe tbody tr th {\n",
       "        vertical-align: top;\n",
       "    }\n",
       "\n",
       "    .dataframe thead th {\n",
       "        text-align: right;\n",
       "    }\n",
       "</style>\n",
       "<table border=\"1\" class=\"dataframe\">\n",
       "  <thead>\n",
       "    <tr style=\"text-align: right;\">\n",
       "      <th></th>\n",
       "      <th>Localidad</th>\n",
       "      <th>Robo_Personas</th>\n",
       "      <th>Homicidios</th>\n",
       "      <th>Promedio</th>\n",
       "    </tr>\n",
       "  </thead>\n",
       "  <tbody>\n",
       "    <tr>\n",
       "      <th>0</th>\n",
       "      <td>CHAPINERO</td>\n",
       "      <td>5578</td>\n",
       "      <td>6</td>\n",
       "      <td>1.242554e+09</td>\n",
       "    </tr>\n",
       "    <tr>\n",
       "      <th>1</th>\n",
       "      <td>USAQUEN</td>\n",
       "      <td>5376</td>\n",
       "      <td>29</td>\n",
       "      <td>7.383502e+08</td>\n",
       "    </tr>\n",
       "    <tr>\n",
       "      <th>2</th>\n",
       "      <td>SUBA</td>\n",
       "      <td>7567</td>\n",
       "      <td>43</td>\n",
       "      <td>5.532981e+08</td>\n",
       "    </tr>\n",
       "    <tr>\n",
       "      <th>86</th>\n",
       "      <td>BARRIOS UNIDOS</td>\n",
       "      <td>2975</td>\n",
       "      <td>10</td>\n",
       "      <td>1.026022e+09</td>\n",
       "    </tr>\n",
       "    <tr>\n",
       "      <th>277</th>\n",
       "      <td>ENGATIVA</td>\n",
       "      <td>8151</td>\n",
       "      <td>32</td>\n",
       "      <td>4.580867e+08</td>\n",
       "    </tr>\n",
       "    <tr>\n",
       "      <th>803</th>\n",
       "      <td>TEUSAQUILLO</td>\n",
       "      <td>3506</td>\n",
       "      <td>9</td>\n",
       "      <td>7.695618e+08</td>\n",
       "    </tr>\n",
       "    <tr>\n",
       "      <th>827</th>\n",
       "      <td>SANTA FE</td>\n",
       "      <td>3255</td>\n",
       "      <td>36</td>\n",
       "      <td>4.895543e+08</td>\n",
       "    </tr>\n",
       "    <tr>\n",
       "      <th>853</th>\n",
       "      <td>PUENTE ARANDA</td>\n",
       "      <td>3778</td>\n",
       "      <td>16</td>\n",
       "      <td>4.910020e+08</td>\n",
       "    </tr>\n",
       "    <tr>\n",
       "      <th>1047</th>\n",
       "      <td>LOS MARTIRES</td>\n",
       "      <td>2849</td>\n",
       "      <td>54</td>\n",
       "      <td>5.593238e+08</td>\n",
       "    </tr>\n",
       "    <tr>\n",
       "      <th>1303</th>\n",
       "      <td>FONTIBON</td>\n",
       "      <td>4739</td>\n",
       "      <td>21</td>\n",
       "      <td>5.178020e+08</td>\n",
       "    </tr>\n",
       "    <tr>\n",
       "      <th>1304</th>\n",
       "      <td>KENNEDY</td>\n",
       "      <td>8439</td>\n",
       "      <td>136</td>\n",
       "      <td>3.589825e+08</td>\n",
       "    </tr>\n",
       "    <tr>\n",
       "      <th>1311</th>\n",
       "      <td>BOSA</td>\n",
       "      <td>4422</td>\n",
       "      <td>85</td>\n",
       "      <td>2.032283e+08</td>\n",
       "    </tr>\n",
       "    <tr>\n",
       "      <th>1312</th>\n",
       "      <td>CIUDAD BOLIVAR</td>\n",
       "      <td>3591</td>\n",
       "      <td>156</td>\n",
       "      <td>2.705525e+08</td>\n",
       "    </tr>\n",
       "    <tr>\n",
       "      <th>1321</th>\n",
       "      <td>TUNJUELITO</td>\n",
       "      <td>1736</td>\n",
       "      <td>21</td>\n",
       "      <td>3.938757e+08</td>\n",
       "    </tr>\n",
       "    <tr>\n",
       "      <th>1337</th>\n",
       "      <td>RAFAEL URIBE URIBE</td>\n",
       "      <td>2805</td>\n",
       "      <td>69</td>\n",
       "      <td>4.093741e+08</td>\n",
       "    </tr>\n",
       "    <tr>\n",
       "      <th>1569</th>\n",
       "      <td>ANTONIO NARIÑO</td>\n",
       "      <td>1788</td>\n",
       "      <td>11</td>\n",
       "      <td>4.576452e+08</td>\n",
       "    </tr>\n",
       "    <tr>\n",
       "      <th>1916</th>\n",
       "      <td>CANDELARIA</td>\n",
       "      <td>665</td>\n",
       "      <td>6</td>\n",
       "      <td>9.302496e+08</td>\n",
       "    </tr>\n",
       "    <tr>\n",
       "      <th>1932</th>\n",
       "      <td>SAN CRISTOBAL</td>\n",
       "      <td>2365</td>\n",
       "      <td>48</td>\n",
       "      <td>2.536868e+08</td>\n",
       "    </tr>\n",
       "    <tr>\n",
       "      <th>2551</th>\n",
       "      <td>USME</td>\n",
       "      <td>1646</td>\n",
       "      <td>51</td>\n",
       "      <td>2.550436e+08</td>\n",
       "    </tr>\n",
       "  </tbody>\n",
       "</table>\n",
       "</div>"
      ],
      "text/plain": [
       "               Localidad  Robo_Personas  Homicidios      Promedio\n",
       "0              CHAPINERO           5578           6  1.242554e+09\n",
       "1                USAQUEN           5376          29  7.383502e+08\n",
       "2                   SUBA           7567          43  5.532981e+08\n",
       "86        BARRIOS UNIDOS           2975          10  1.026022e+09\n",
       "277             ENGATIVA           8151          32  4.580867e+08\n",
       "803          TEUSAQUILLO           3506           9  7.695618e+08\n",
       "827             SANTA FE           3255          36  4.895543e+08\n",
       "853        PUENTE ARANDA           3778          16  4.910020e+08\n",
       "1047        LOS MARTIRES           2849          54  5.593238e+08\n",
       "1303            FONTIBON           4739          21  5.178020e+08\n",
       "1304             KENNEDY           8439         136  3.589825e+08\n",
       "1311                BOSA           4422          85  2.032283e+08\n",
       "1312      CIUDAD BOLIVAR           3591         156  2.705525e+08\n",
       "1321          TUNJUELITO           1736          21  3.938757e+08\n",
       "1337  RAFAEL URIBE URIBE           2805          69  4.093741e+08\n",
       "1569      ANTONIO NARIÑO           1788          11  4.576452e+08\n",
       "1916          CANDELARIA            665           6  9.302496e+08\n",
       "1932       SAN CRISTOBAL           2365          48  2.536868e+08\n",
       "2551                USME           1646          51  2.550436e+08"
      ]
     },
     "execution_count": 17,
     "metadata": {},
     "output_type": "execute_result"
    }
   ],
   "source": [
    "maps_final1"
   ]
  },
  {
   "cell_type": "markdown",
   "id": "24213dc0",
   "metadata": {},
   "source": [
    "-----"
   ]
  },
  {
   "cell_type": "markdown",
   "id": "ad0c3152",
   "metadata": {},
   "source": [
    "#### Featuring the Geojson File"
   ]
  },
  {
   "cell_type": "code",
   "execution_count": 18,
   "id": "df80cb8c",
   "metadata": {},
   "outputs": [
    {
     "data": {
      "text/plain": [
       "{'identificador_unico_de_la_localidad': '10',\n",
       " 'area_de_la_localidad': '35880967,349154',\n",
       " 'acto_administrativo_de_la_localidad': 'Acuerdo 8 de 1977',\n",
       " 'geo_point_2d': [4.701028978459081, -74.11320818503745],\n",
       " 'nombre_de_la_localidad': 'ENGATIVA'}"
      ]
     },
     "execution_count": 18,
     "metadata": {},
     "output_type": "execute_result"
    }
   ],
   "source": [
    "localidades_b['features'][0]['properties'] # We can see the locality. So lets append it\n",
    "localidades_b['features'][1]['properties'] \n",
    "# The important information here is 'Identificador unico de la localidad'"
   ]
  },
  {
   "cell_type": "markdown",
   "id": "09534beb",
   "metadata": {},
   "source": [
    "There's a problem. We need the 'id' on a int format, not a str. So let´s change it."
   ]
  },
  {
   "cell_type": "code",
   "execution_count": 19,
   "id": "a6303b17",
   "metadata": {},
   "outputs": [],
   "source": [
    "for i in range(20): # There are 20 locality's in Bogotá\n",
    "    localidades_b['features'][i]['properties']['identificador_unico_de_la_localidad'] = int(localidades_b['features'][i]['properties']['identificador_unico_de_la_localidad'])"
   ]
  },
  {
   "cell_type": "code",
   "execution_count": 20,
   "id": "d9144160",
   "metadata": {},
   "outputs": [
    {
     "data": {
      "text/plain": [
       "{'identificador_unico_de_la_localidad': 10,\n",
       " 'area_de_la_localidad': '35880967,349154',\n",
       " 'acto_administrativo_de_la_localidad': 'Acuerdo 8 de 1977',\n",
       " 'geo_point_2d': [4.701028978459081, -74.11320818503745],\n",
       " 'nombre_de_la_localidad': 'ENGATIVA'}"
      ]
     },
     "execution_count": 20,
     "metadata": {},
     "output_type": "execute_result"
    }
   ],
   "source": [
    "localidades_b['features'][1]['properties'] # id as int"
   ]
  },
  {
   "cell_type": "code",
   "execution_count": 21,
   "id": "7cbf868b",
   "metadata": {},
   "outputs": [],
   "source": [
    "localidad_id_map = {}\n",
    "for feature in localidades_b['features']:\n",
    "    feature['id'] = feature['properties']['identificador_unico_de_la_localidad']\n",
    "    localidad_id_map[feature['properties']['nombre_de_la_localidad']] = feature['id']"
   ]
  },
  {
   "cell_type": "code",
   "execution_count": 22,
   "id": "fc282afa",
   "metadata": {},
   "outputs": [
    {
     "data": {
      "text/plain": [
       "{'CANDELARIA': 17,\n",
       " 'ENGATIVA': 10,\n",
       " 'PUENTE ARANDA': 16,\n",
       " 'CHAPINERO': 2,\n",
       " 'ANTONIO NARIÑO': 15,\n",
       " 'BARRIOS UNIDOS': 12,\n",
       " 'LOS MARTIRES': 14,\n",
       " 'CIUDAD BOLIVAR': 19,\n",
       " 'SAN CRISTOBAL': 4,\n",
       " 'USAQUEN': 1,\n",
       " 'RAFAEL URIBE URIBE': 18,\n",
       " 'USME': 5,\n",
       " 'SANTA FE': 3,\n",
       " 'BOSA': 7,\n",
       " 'TUNJUELITO': 6,\n",
       " 'SUBA': 11,\n",
       " 'KENNEDY': 8,\n",
       " 'TEUSAQUILLO': 13,\n",
       " 'SUMAPAZ': 20,\n",
       " 'FONTIBON': 9}"
      ]
     },
     "execution_count": 22,
     "metadata": {},
     "output_type": "execute_result"
    }
   ],
   "source": [
    "localidad_id_map # We have our dictionary with the locality's. "
   ]
  },
  {
   "cell_type": "code",
   "execution_count": 23,
   "id": "167bc8b8",
   "metadata": {},
   "outputs": [
    {
     "data": {
      "text/plain": [
       "20"
      ]
     },
     "execution_count": 23,
     "metadata": {},
     "output_type": "execute_result"
    }
   ],
   "source": [
    "localidad_id_map.pop('SUMAPAZ')"
   ]
  },
  {
   "cell_type": "code",
   "execution_count": 24,
   "id": "8c3d86ca",
   "metadata": {},
   "outputs": [
    {
     "data": {
      "text/plain": [
       "{'CANDELARIA': 17,\n",
       " 'ENGATIVA': 10,\n",
       " 'PUENTE ARANDA': 16,\n",
       " 'CHAPINERO': 2,\n",
       " 'ANTONIO NARIÑO': 15,\n",
       " 'BARRIOS UNIDOS': 12,\n",
       " 'LOS MARTIRES': 14,\n",
       " 'CIUDAD BOLIVAR': 19,\n",
       " 'SAN CRISTOBAL': 4,\n",
       " 'USAQUEN': 1,\n",
       " 'RAFAEL URIBE URIBE': 18,\n",
       " 'USME': 5,\n",
       " 'SANTA FE': 3,\n",
       " 'BOSA': 7,\n",
       " 'TUNJUELITO': 6,\n",
       " 'SUBA': 11,\n",
       " 'KENNEDY': 8,\n",
       " 'TEUSAQUILLO': 13,\n",
       " 'FONTIBON': 9}"
      ]
     },
     "execution_count": 24,
     "metadata": {},
     "output_type": "execute_result"
    }
   ],
   "source": [
    "localidad_id_map"
   ]
  },
  {
   "cell_type": "markdown",
   "id": "8909363d",
   "metadata": {},
   "source": [
    "-----"
   ]
  },
  {
   "cell_type": "code",
   "execution_count": 25,
   "id": "276a54cb",
   "metadata": {},
   "outputs": [
    {
     "name": "stderr",
     "output_type": "stream",
     "text": [
      "<ipython-input-25-6dc3d83a3c86>:1: SettingWithCopyWarning:\n",
      "\n",
      "\n",
      "A value is trying to be set on a copy of a slice from a DataFrame.\n",
      "Try using .loc[row_indexer,col_indexer] = value instead\n",
      "\n",
      "See the caveats in the documentation: https://pandas.pydata.org/pandas-docs/stable/user_guide/indexing.html#returning-a-view-versus-a-copy\n",
      "\n"
     ]
    }
   ],
   "source": [
    "maps_final1['id'] = maps_final1['Localidad'].apply(lambda x: localidad_id_map[x])"
   ]
  },
  {
   "cell_type": "code",
   "execution_count": 51,
   "id": "129b60cb",
   "metadata": {},
   "outputs": [
    {
     "name": "stderr",
     "output_type": "stream",
     "text": [
      "<ipython-input-51-aa7f98aac601>:1: SettingWithCopyWarning:\n",
      "\n",
      "\n",
      "A value is trying to be set on a copy of a slice from a DataFrame.\n",
      "Try using .loc[row_indexer,col_indexer] = value instead\n",
      "\n",
      "See the caveats in the documentation: https://pandas.pydata.org/pandas-docs/stable/user_guide/indexing.html#returning-a-view-versus-a-copy\n",
      "\n"
     ]
    }
   ],
   "source": [
    "maps_final1['PromedioScale'] = np.log10(maps_final1['Promedio'])"
   ]
  },
  {
   "cell_type": "code",
   "execution_count": 26,
   "id": "ad023eaf",
   "metadata": {},
   "outputs": [
    {
     "data": {
      "text/html": [
       "<div>\n",
       "<style scoped>\n",
       "    .dataframe tbody tr th:only-of-type {\n",
       "        vertical-align: middle;\n",
       "    }\n",
       "\n",
       "    .dataframe tbody tr th {\n",
       "        vertical-align: top;\n",
       "    }\n",
       "\n",
       "    .dataframe thead th {\n",
       "        text-align: right;\n",
       "    }\n",
       "</style>\n",
       "<table border=\"1\" class=\"dataframe\">\n",
       "  <thead>\n",
       "    <tr style=\"text-align: right;\">\n",
       "      <th></th>\n",
       "      <th>Localidad</th>\n",
       "      <th>Robo_Personas</th>\n",
       "      <th>Homicidios</th>\n",
       "      <th>Promedio</th>\n",
       "      <th>id</th>\n",
       "    </tr>\n",
       "  </thead>\n",
       "  <tbody>\n",
       "    <tr>\n",
       "      <th>0</th>\n",
       "      <td>CHAPINERO</td>\n",
       "      <td>5578</td>\n",
       "      <td>6</td>\n",
       "      <td>1.242554e+09</td>\n",
       "      <td>2</td>\n",
       "    </tr>\n",
       "    <tr>\n",
       "      <th>1</th>\n",
       "      <td>USAQUEN</td>\n",
       "      <td>5376</td>\n",
       "      <td>29</td>\n",
       "      <td>7.383502e+08</td>\n",
       "      <td>1</td>\n",
       "    </tr>\n",
       "    <tr>\n",
       "      <th>2</th>\n",
       "      <td>SUBA</td>\n",
       "      <td>7567</td>\n",
       "      <td>43</td>\n",
       "      <td>5.532981e+08</td>\n",
       "      <td>11</td>\n",
       "    </tr>\n",
       "    <tr>\n",
       "      <th>86</th>\n",
       "      <td>BARRIOS UNIDOS</td>\n",
       "      <td>2975</td>\n",
       "      <td>10</td>\n",
       "      <td>1.026022e+09</td>\n",
       "      <td>12</td>\n",
       "    </tr>\n",
       "    <tr>\n",
       "      <th>277</th>\n",
       "      <td>ENGATIVA</td>\n",
       "      <td>8151</td>\n",
       "      <td>32</td>\n",
       "      <td>4.580867e+08</td>\n",
       "      <td>10</td>\n",
       "    </tr>\n",
       "    <tr>\n",
       "      <th>803</th>\n",
       "      <td>TEUSAQUILLO</td>\n",
       "      <td>3506</td>\n",
       "      <td>9</td>\n",
       "      <td>7.695618e+08</td>\n",
       "      <td>13</td>\n",
       "    </tr>\n",
       "    <tr>\n",
       "      <th>827</th>\n",
       "      <td>SANTA FE</td>\n",
       "      <td>3255</td>\n",
       "      <td>36</td>\n",
       "      <td>4.895543e+08</td>\n",
       "      <td>3</td>\n",
       "    </tr>\n",
       "    <tr>\n",
       "      <th>853</th>\n",
       "      <td>PUENTE ARANDA</td>\n",
       "      <td>3778</td>\n",
       "      <td>16</td>\n",
       "      <td>4.910020e+08</td>\n",
       "      <td>16</td>\n",
       "    </tr>\n",
       "    <tr>\n",
       "      <th>1047</th>\n",
       "      <td>LOS MARTIRES</td>\n",
       "      <td>2849</td>\n",
       "      <td>54</td>\n",
       "      <td>5.593238e+08</td>\n",
       "      <td>14</td>\n",
       "    </tr>\n",
       "    <tr>\n",
       "      <th>1303</th>\n",
       "      <td>FONTIBON</td>\n",
       "      <td>4739</td>\n",
       "      <td>21</td>\n",
       "      <td>5.178020e+08</td>\n",
       "      <td>9</td>\n",
       "    </tr>\n",
       "    <tr>\n",
       "      <th>1304</th>\n",
       "      <td>KENNEDY</td>\n",
       "      <td>8439</td>\n",
       "      <td>136</td>\n",
       "      <td>3.589825e+08</td>\n",
       "      <td>8</td>\n",
       "    </tr>\n",
       "    <tr>\n",
       "      <th>1311</th>\n",
       "      <td>BOSA</td>\n",
       "      <td>4422</td>\n",
       "      <td>85</td>\n",
       "      <td>2.032283e+08</td>\n",
       "      <td>7</td>\n",
       "    </tr>\n",
       "    <tr>\n",
       "      <th>1312</th>\n",
       "      <td>CIUDAD BOLIVAR</td>\n",
       "      <td>3591</td>\n",
       "      <td>156</td>\n",
       "      <td>2.705525e+08</td>\n",
       "      <td>19</td>\n",
       "    </tr>\n",
       "    <tr>\n",
       "      <th>1321</th>\n",
       "      <td>TUNJUELITO</td>\n",
       "      <td>1736</td>\n",
       "      <td>21</td>\n",
       "      <td>3.938757e+08</td>\n",
       "      <td>6</td>\n",
       "    </tr>\n",
       "    <tr>\n",
       "      <th>1337</th>\n",
       "      <td>RAFAEL URIBE URIBE</td>\n",
       "      <td>2805</td>\n",
       "      <td>69</td>\n",
       "      <td>4.093741e+08</td>\n",
       "      <td>18</td>\n",
       "    </tr>\n",
       "    <tr>\n",
       "      <th>1569</th>\n",
       "      <td>ANTONIO NARIÑO</td>\n",
       "      <td>1788</td>\n",
       "      <td>11</td>\n",
       "      <td>4.576452e+08</td>\n",
       "      <td>15</td>\n",
       "    </tr>\n",
       "    <tr>\n",
       "      <th>1916</th>\n",
       "      <td>CANDELARIA</td>\n",
       "      <td>665</td>\n",
       "      <td>6</td>\n",
       "      <td>9.302496e+08</td>\n",
       "      <td>17</td>\n",
       "    </tr>\n",
       "    <tr>\n",
       "      <th>1932</th>\n",
       "      <td>SAN CRISTOBAL</td>\n",
       "      <td>2365</td>\n",
       "      <td>48</td>\n",
       "      <td>2.536868e+08</td>\n",
       "      <td>4</td>\n",
       "    </tr>\n",
       "    <tr>\n",
       "      <th>2551</th>\n",
       "      <td>USME</td>\n",
       "      <td>1646</td>\n",
       "      <td>51</td>\n",
       "      <td>2.550436e+08</td>\n",
       "      <td>5</td>\n",
       "    </tr>\n",
       "  </tbody>\n",
       "</table>\n",
       "</div>"
      ],
      "text/plain": [
       "               Localidad  Robo_Personas  Homicidios      Promedio  id\n",
       "0              CHAPINERO           5578           6  1.242554e+09   2\n",
       "1                USAQUEN           5376          29  7.383502e+08   1\n",
       "2                   SUBA           7567          43  5.532981e+08  11\n",
       "86        BARRIOS UNIDOS           2975          10  1.026022e+09  12\n",
       "277             ENGATIVA           8151          32  4.580867e+08  10\n",
       "803          TEUSAQUILLO           3506           9  7.695618e+08  13\n",
       "827             SANTA FE           3255          36  4.895543e+08   3\n",
       "853        PUENTE ARANDA           3778          16  4.910020e+08  16\n",
       "1047        LOS MARTIRES           2849          54  5.593238e+08  14\n",
       "1303            FONTIBON           4739          21  5.178020e+08   9\n",
       "1304             KENNEDY           8439         136  3.589825e+08   8\n",
       "1311                BOSA           4422          85  2.032283e+08   7\n",
       "1312      CIUDAD BOLIVAR           3591         156  2.705525e+08  19\n",
       "1321          TUNJUELITO           1736          21  3.938757e+08   6\n",
       "1337  RAFAEL URIBE URIBE           2805          69  4.093741e+08  18\n",
       "1569      ANTONIO NARIÑO           1788          11  4.576452e+08  15\n",
       "1916          CANDELARIA            665           6  9.302496e+08  17\n",
       "1932       SAN CRISTOBAL           2365          48  2.536868e+08   4\n",
       "2551                USME           1646          51  2.550436e+08   5"
      ]
     },
     "execution_count": 26,
     "metadata": {},
     "output_type": "execute_result"
    }
   ],
   "source": [
    "maps_final1"
   ]
  },
  {
   "cell_type": "code",
   "execution_count": 27,
   "id": "48ff0de2",
   "metadata": {},
   "outputs": [],
   "source": [
    "maps_final1.to_csv('df_maps_final.csv')"
   ]
  }
 ],
 "metadata": {
  "kernelspec": {
   "display_name": "Python 3",
   "language": "python",
   "name": "python3"
  },
  "language_info": {
   "codemirror_mode": {
    "name": "ipython",
    "version": 3
   },
   "file_extension": ".py",
   "mimetype": "text/x-python",
   "name": "python",
   "nbconvert_exporter": "python",
   "pygments_lexer": "ipython3",
   "version": "3.8.8"
  }
 },
 "nbformat": 4,
 "nbformat_minor": 5
}
