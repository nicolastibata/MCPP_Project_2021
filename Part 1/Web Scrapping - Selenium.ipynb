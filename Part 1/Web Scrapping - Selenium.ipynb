{
 "cells": [
  {
   "cell_type": "markdown",
   "id": "7e3a78e7",
   "metadata": {},
   "source": [
    "### Web Scrapping - Selenium\n",
    "*24 de Noviembre de 2021*\n",
    "\n",
    "*Nicolás Tibatá*"
   ]
  },
  {
   "cell_type": "code",
   "execution_count": null,
   "id": "e6ab6b21",
   "metadata": {},
   "outputs": [],
   "source": [
    "import random \n",
    "import json\n",
    "import pandas as pd\n",
    "from time import sleep\n",
    "from selenium import webdriver"
   ]
  },
  {
   "cell_type": "markdown",
   "id": "bfe20f6c",
   "metadata": {},
   "source": [
    "#### Usaquén"
   ]
  },
  {
   "cell_type": "markdown",
   "id": "1c5a3cb5",
   "metadata": {},
   "source": [
    "`Getting the Driver`"
   ]
  },
  {
   "cell_type": "markdown",
   "id": "f9d02c60",
   "metadata": {},
   "source": [
    "It's necessary to download the driver of your web browser.<br/><br/>\n",
    "\n",
    "Here you can download it and install it on your computer: https://selenium-python.readthedocs.io/installation.html#drivers <br/><br/>\n",
    "\n",
    "And here you can get some documentation: https://selenium-python.readthedocs.io/\n"
   ]
  },
  {
   "cell_type": "code",
   "execution_count": null,
   "id": "4365c60f",
   "metadata": {},
   "outputs": [],
   "source": [
    "# After we get the driver, we have to call it with the path where is downloaded \n",
    "driver_usaquen = webdriver.Chrome('/Users/Nicolas/Downloads/chromedriver')\n",
    "\n",
    "# Then we put the link that we want to use\n",
    "driver_usaquen.get('https://www.olx.com.co/usaquen_g4300120/apartamentos-casas-venta_c367')"
   ]
  },
  {
   "cell_type": "markdown",
   "id": "899dd898",
   "metadata": {},
   "source": [
    "If I use the main link of all the city, I'll have less data that I wanted. To fix this problem is necessary to `get inside each link for the locations on the city`. Like that I can get more information. "
   ]
  },
  {
   "cell_type": "markdown",
   "id": "3d7dd21c",
   "metadata": {},
   "source": [
    "------"
   ]
  },
  {
   "cell_type": "markdown",
   "id": "a5e76aed",
   "metadata": {},
   "source": [
    "`Geting the 'Upload More' Button`"
   ]
  },
  {
   "cell_type": "code",
   "execution_count": null,
   "id": "74ae244d",
   "metadata": {},
   "outputs": [],
   "source": [
    "boton = driver_usaquen.find_element_by_xpath('//button[@data-aut-id=\"btnLoadMore\"]')"
   ]
  },
  {
   "cell_type": "markdown",
   "id": "dad45f63",
   "metadata": {},
   "source": [
    "In this case, we need too `create a button to get more data`, BUT is important to click the button in a random way nor you get blocked"
   ]
  },
  {
   "cell_type": "code",
   "execution_count": null,
   "id": "538ea465",
   "metadata": {},
   "outputs": [],
   "source": [
    "for i in range(50): # That´s the maximum of clicks that olx let us do.\n",
    "    try:\n",
    "        boton.click()\n",
    "        # Important to use sleep to maintain a randomized button\n",
    "        sleep(random.uniform(5.0,20.0))\n",
    "        boton = driver_usaquen.find_element_by_xpath('//button[@data-aut-id=\"btnLoadMore\"]')\n",
    "    except: \n",
    "        break # if theres no button, so finish the loop"
   ]
  },
  {
   "cell_type": "markdown",
   "id": "ea51534c",
   "metadata": {},
   "source": [
    "-----"
   ]
  },
  {
   "cell_type": "markdown",
   "id": "020e994d",
   "metadata": {},
   "source": [
    "I want to get the link of each property and then use 'BeautifulSoup' to get the data of each link `(see part 2 of this repository)`"
   ]
  },
  {
   "cell_type": "markdown",
   "id": "c319f122",
   "metadata": {},
   "source": [
    "`Getting the links of the properties`"
   ]
  },
  {
   "cell_type": "code",
   "execution_count": null,
   "id": "addb2003",
   "metadata": {},
   "outputs": [],
   "source": [
    "# We search the 'href' location with xpath\n",
    "links_usaquen = driver_usaquen.find_elements_by_xpath('//*[@href]')"
   ]
  },
  {
   "cell_type": "code",
   "execution_count": null,
   "id": "a7589f64",
   "metadata": {},
   "outputs": [],
   "source": [
    "data_links_usaquen = []\n",
    "for link in links_usaquen:\n",
    "    data = link.get_attribute('href') #This will give me the link\n",
    "    data_links_usaquen.append(data) # Then I append it into a new list\n",
    "    \n",
    "data_links_usaquen"
   ]
  },
  {
   "cell_type": "code",
   "execution_count": null,
   "id": "4d66c334",
   "metadata": {},
   "outputs": [],
   "source": [
    "driver_usaquen.quit() # Even faster even better"
   ]
  },
  {
   "cell_type": "markdown",
   "id": "5558d22c",
   "metadata": {},
   "source": [
    "-----"
   ]
  },
  {
   "cell_type": "markdown",
   "id": "3a204833",
   "metadata": {},
   "source": [
    "BUT this list have a problem: \n",
    "- The links are not just from olx webpage, also 'properati' webpage. <br/><br/>\n",
    "\n",
    "So I filter the list by a common character of olx link's"
   ]
  },
  {
   "cell_type": "code",
   "execution_count": null,
   "id": "8ded035a",
   "metadata": {},
   "outputs": [],
   "source": [
    "# 'iid' is the common character\n",
    "base_links = []\n",
    "for data in data_links_usaquen:\n",
    "    if data.find(\"iid\") != -1: #-1 means that this character is on the elements of the list\n",
    "        base_links.append(data)\n",
    "    else:\n",
    "        continue"
   ]
  },
  {
   "cell_type": "markdown",
   "id": "09cf30a8",
   "metadata": {},
   "source": [
    "#### Suba"
   ]
  },
  {
   "cell_type": "code",
   "execution_count": null,
   "id": "684217e9",
   "metadata": {},
   "outputs": [],
   "source": [
    "driver_suba = webdriver.Chrome('/Users/Nicolas/Downloads/chromedriver')\n",
    "driver_suba.get('https://www.olx.com.co/suba_g4300117/apartamentos-casas-venta_c367') \n",
    "# See the difference on the driver´s name\n",
    "# See the difference on the link"
   ]
  },
  {
   "cell_type": "markdown",
   "id": "eb3d4aa4",
   "metadata": {},
   "source": [
    "----"
   ]
  },
  {
   "cell_type": "code",
   "execution_count": null,
   "id": "265b814e",
   "metadata": {},
   "outputs": [],
   "source": [
    "boton = driver_suba.find_element_by_xpath('//button[@data-aut-id=\"btnLoadMore\"]')"
   ]
  },
  {
   "cell_type": "code",
   "execution_count": null,
   "id": "c397be16",
   "metadata": {},
   "outputs": [],
   "source": [
    "for i in range(50): \n",
    "    try:\n",
    "        boton.click()\n",
    "        sleep(random.uniform(5.0,20.0))\n",
    "        boton = driver_suba.find_element_by_xpath('//button[@data-aut-id=\"btnLoadMore\"]')\n",
    "    except: \n",
    "        break"
   ]
  },
  {
   "cell_type": "markdown",
   "id": "9416b2a2",
   "metadata": {},
   "source": [
    "-----"
   ]
  },
  {
   "cell_type": "code",
   "execution_count": null,
   "id": "5b1ad6b7",
   "metadata": {},
   "outputs": [],
   "source": [
    "links_suba = driver_suba.find_elements_by_xpath('//*[@href]')"
   ]
  },
  {
   "cell_type": "code",
   "execution_count": null,
   "id": "e1412e56",
   "metadata": {},
   "outputs": [],
   "source": [
    "data_links_suba = []\n",
    "for link in links_suba:\n",
    "    data = link.get_attribute('href')\n",
    "    data_links_suba.append(data)\n",
    "    \n",
    "data_links_suba"
   ]
  },
  {
   "cell_type": "code",
   "execution_count": null,
   "id": "22c548b4",
   "metadata": {},
   "outputs": [],
   "source": [
    "driver_suba.quit() # Even faster even better"
   ]
  },
  {
   "cell_type": "code",
   "execution_count": null,
   "id": "1a106e5a",
   "metadata": {},
   "outputs": [],
   "source": [
    "for data in data_links_suba:\n",
    "    if data.find(\"iid\") != -1:\n",
    "        base_links.append(data)\n",
    "    else:\n",
    "        continue"
   ]
  },
  {
   "cell_type": "markdown",
   "id": "e96f0ff6",
   "metadata": {},
   "source": [
    "<span style=\"font-size:larger;\">And so on and so forth</span>"
   ]
  },
  {
   "cell_type": "markdown",
   "id": "639e4ea5",
   "metadata": {},
   "source": [
    "<span style=\"font-size:larger;\">But it's easier if we do it with a loop </span>"
   ]
  },
  {
   "cell_type": "code",
   "execution_count": null,
   "id": "32809ba5",
   "metadata": {},
   "outputs": [],
   "source": [
    "driver = webdriver.Chrome('/Users/Nicolas/Downloads/chromedriver’)\n",
    "paginas_web = ['https://www.olx.com.co/usaquen_g4300120/apartamentos-casas-venta_c367',\n",
    "              'https://www.olx.com.co/suba_g4300117/apartamentos-casas-venta_c367',\n",
    "              'https://www.olx.com.co/chapinero_g4300107/apartamentos-casas-venta_c367',\n",
    "              'https://www.olx.com.co/kennedy_g4300111/apartamentos-casas-venta_c367',\n",
    "              'https://www.olx.com.co/engativa_g4300109/apartamentos-casas-venta_c367',\n",
    "              'https://www.olx.com.co/fontibon_g4300110/apartamentos-casas-venta_c367',\n",
    "              'https://www.olx.com.co/bosa_g4300105/apartamentos-casas-venta_c367'] #And so on...\n",
    "links_data = []\n",
    "for paginas in paginas_web:\n",
    "#    try:\n",
    "        driver.get(paginas_web)\n",
    "        sleep(random.uniform(10.0,20.0))\n",
    "        button = driver.find_element_by_xpath('//button[@data-aut-id=\"btnLoadMore\"]')\n",
    "        for i in range(50):\n",
    "            try:\n",
    "                button.click()\n",
    "                sleep(random.uniform(5.0,20.0))\n",
    "                button = driver.find_element_by_xpath('//button[@data-aut-id=\"btnLoadMore\"]')\n",
    "            except:\n",
    "                break\n",
    "        sleep(5)\n",
    "        links = driver.find_elements_by_xpath('//*[@href]')\n",
    "        sleep(5)\n",
    "        for link in links:\n",
    "            data = links.get_attribute('href')\n",
    "            links_data.append(data)\n",
    "\n",
    "        driver.quit()\n",
    "        sleep(random.uniform(5.0,10.0))\n",
    "#\texcept:\n",
    "#\t\tbreak"
   ]
  },
  {
   "cell_type": "markdown",
   "id": "bcff0e80",
   "metadata": {},
   "source": [
    "----"
   ]
  },
  {
   "cell_type": "code",
   "execution_count": null,
   "id": "2b4d35d6",
   "metadata": {},
   "outputs": [],
   "source": [
    "# Then we save our important list with links (is on part 2 of this repository)\n",
    "with open('base_links.txt', 'w') as f:\n",
    "    f.write(json.dumps(base_links))"
   ]
  },
  {
   "cell_type": "markdown",
   "id": "bdf8b75d",
   "metadata": {},
   "source": [
    "<span style=\"font-size:larger;\">And if you get blocked... there's nothing that change VPN cannot do ;) </span>"
   ]
  }
 ],
 "metadata": {
  "kernelspec": {
   "display_name": "Python 3",
   "language": "python",
   "name": "python3"
  },
  "language_info": {
   "codemirror_mode": {
    "name": "ipython",
    "version": 3
   },
   "file_extension": ".py",
   "mimetype": "text/x-python",
   "name": "python",
   "nbconvert_exporter": "python",
   "pygments_lexer": "ipython3",
   "version": "3.8.8"
  }
 },
 "nbformat": 4,
 "nbformat_minor": 5
}
